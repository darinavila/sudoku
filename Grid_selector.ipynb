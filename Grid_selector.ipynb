{
 "cells": [
  {
   "cell_type": "code",
   "execution_count": null,
   "metadata": {},
   "outputs": [],
   "source": [
    "import cv2, time, math\n",
    "import numpy as np\n",
    "video = cv2.VideoCapture(0)\n",
    "\n",
    "x = 1\n",
    "\n",
    "while True:\n",
    "    check, frame = video.read()\n",
    "    frame = frame\n",
    "    frame = cv2.cvtColor(frame,cv2.COLOR_BGR2GRAY)\n",
    "    frame = cv2.GaussianBlur(frame,(5,5),0)\n",
    "    frame = cv2.adaptiveThreshold(frame, 255, cv2.ADAPTIVE_THRESH_GAUSSIAN_C, cv2.THRESH_BINARY, 15, 5)\n",
    "    image, contours, hierarchy = cv2.findContours(frame, cv2.RETR_TREE, cv2.CHAIN_APPROX_SIMPLE)\n",
    "    \n",
    "    maxA = -1\n",
    "    maxC = None\n",
    "    secA = -1\n",
    "    secC = None\n",
    "    \n",
    "    for f in contours:\n",
    "        if cv2.contourArea(f) > maxA:\n",
    "            maxA = cv2.contourArea(f)\n",
    "            maxC = f\n",
    "        elif cv2.contourArea(f) > secA:\n",
    "            secA = cv2.contourArea(f)\n",
    "            secC = f\n",
    "    \n",
    "    \n",
    "    big = [1]\n",
    "    big[0] = secC \n",
    "    \n",
    "    poly = cv2.approxPolyDP(secC, 1, True)\n",
    "\n",
    "    \n",
    "    \n",
    "    check, frame2 = video.read()\n",
    "    final = cv2.drawContours(frame2, big, -1, (0,0,255),1)\n",
    "    cv2.fillConvexPoly(final, poly, (0,255,255), 1)\n",
    "    cv2.imshow('final',final)\n",
    "    key = cv2.waitKey(1)\n",
    "    if key == ord('x'):\n",
    "        break\n",
    "video.release()\n",
    "cv2.destroyAllWindows"
   ]
  },
  {
   "cell_type": "code",
   "execution_count": null,
   "metadata": {},
   "outputs": [],
   "source": [
    "#        break\n",
    "#for p in range(0,len(secC)-1):\n",
    " #   x1 = secC[p][0][0]\n",
    "  #  y1 = secC[p][0][1]\n",
    "   # x2 = secC[p+1][0][0]\n",
    "    #y2 = secC[p+1][0][1]\n",
    "    #angle = math.atan2(y2 - y1, x2 - x1) * 180.0 / math.pi;\n",
    "    #print(angle)"
   ]
  }
 ],
 "metadata": {
  "kernelspec": {
   "display_name": "Python 3",
   "language": "python",
   "name": "python3"
  },
  "language_info": {
   "codemirror_mode": {
    "name": "ipython",
    "version": 3
   },
   "file_extension": ".py",
   "mimetype": "text/x-python",
   "name": "python",
   "nbconvert_exporter": "python",
   "pygments_lexer": "ipython3",
   "version": "3.7.6"
  }
 },
 "nbformat": 4,
 "nbformat_minor": 4
}
